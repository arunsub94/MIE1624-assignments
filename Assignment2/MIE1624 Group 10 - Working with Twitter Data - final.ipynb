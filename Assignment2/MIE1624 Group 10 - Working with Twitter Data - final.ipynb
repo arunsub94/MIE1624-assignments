{
 "cells": [
  {
   "cell_type": "markdown",
   "metadata": {
    "colab_type": "text",
    "id": "c3rop_OsHYum"
   },
   "source": [
    "# MIE1624 - Group 10: Extracting and exploring Twitter data"
   ]
  },
  {
   "cell_type": "markdown",
   "metadata": {
    "colab_type": "text",
    "id": "lFZJNC2SHYup"
   },
   "source": [
    "### Developed by:\n",
    "Santiago Zuluaga, Bradley Kloostra, Yair Levin, Khashayar Ebrahimi & Takuya Harada"
   ]
  },
  {
   "cell_type": "markdown",
   "metadata": {
    "colab_type": "text",
    "id": "9WulJlZLHYuq"
   },
   "source": [
    "## Part I: Package loading and environment preparation"
   ]
  },
  {
   "cell_type": "code",
   "execution_count": 1,
   "metadata": {
    "colab": {},
    "colab_type": "code",
    "id": "z9sI5sgFHYur",
    "outputId": "08fdb4f4-fb1f-4289-bf32-7bca5cb72774"
   },
   "outputs": [
    {
     "name": "stderr",
     "output_type": "stream",
     "text": [
      "[nltk_data] Downloading package stopwords to\n",
      "[nltk_data]     C:\\Users\\BKloostra\\AppData\\Roaming\\nltk_data...\n",
      "[nltk_data]   Package stopwords is already up-to-date!\n",
      "[nltk_data] Downloading package punkt to\n",
      "[nltk_data]     C:\\Users\\BKloostra\\AppData\\Roaming\\nltk_data...\n",
      "[nltk_data]   Package punkt is already up-to-date!\n",
      "[nltk_data] Downloading package wordnet to\n",
      "[nltk_data]     C:\\Users\\BKloostra\\AppData\\Roaming\\nltk_data...\n",
      "[nltk_data]   Package wordnet is already up-to-date!\n"
     ]
    }
   ],
   "source": [
    "#import package to use Twitter API\n",
    "try:\n",
    "    import tweepy #If tweepy is already installed on the system\n",
    "except:\n",
    "    !pip install tweepy\n",
    "\n",
    "#import OS package to interact with file paths/OS commands\n",
    "import os\n",
    "#import pandas dataframe package\n",
    "import pandas as pd\n",
    "#import re package for the use of regular expressions\n",
    "import re\n",
    "#import package for string handling\n",
    "import string\n",
    "try:\n",
    "    import emoji #If tweepy is already installed on the system\n",
    "except:\n",
    "    !pip install emoji\n",
    "\n",
    "#import nltk package for text processing\n",
    "import nltk\n",
    "nltk.download('stopwords')\n",
    "nltk.download('punkt')\n",
    "nltk.download('wordnet')\n",
    "from nltk.corpus import stopwords\n",
    "from nltk.tokenize import word_tokenize\n",
    "from nltk.stem.porter import PorterStemmer\n"
   ]
  },
  {
   "cell_type": "markdown",
   "metadata": {
    "colab_type": "text",
    "id": "V3MJ9J9NHYux"
   },
   "source": [
    "The first step to access publicly available Twitter data is to create a developer account (visit https://developer.twitter.com/ to get started). After creating a developer account, we must create an 'app'; this will give us developer Twitter credentials that will then be used to access the Twitter API:"
   ]
  },
  {
   "cell_type": "code",
   "execution_count": 2,
   "metadata": {
    "colab": {},
    "colab_type": "code",
    "id": "25aQxsD9HYuy"
   },
   "outputs": [],
   "source": [
    "#Twitter credentials for the app (Twitter account created for this assignment)\n",
    "consumer_key = #Insert api credentials here\n",
    "consumer_secret = #Insert api credentials here\n",
    "access_token = #Insert api credentials here\n",
    "access_token_secret = #Insert api credentials here"
   ]
  },
  {
   "cell_type": "markdown",
   "metadata": {
    "colab_type": "text",
    "id": "HFGmLuUbHYu1"
   },
   "source": [
    "Using the _tweepy_ package (https://www.tweepy.org/), one of the many open access Python libraries, we will setup the connection between the Twitter API and our notebook:"
   ]
  },
  {
   "cell_type": "code",
   "execution_count": 3,
   "metadata": {
    "colab": {},
    "colab_type": "code",
    "id": "oghDNp-bHYu2"
   },
   "outputs": [],
   "source": [
    "#Passing Twitter credentials to Tweepy. This creates a connection between the Twitter API and our IPython Notebook\n",
    "auth = tweepy.OAuthHandler(consumer_key, consumer_secret)\n",
    "auth.set_access_token(access_token, access_token_secret)\n",
    "api = tweepy.API(auth)"
   ]
  },
  {
   "cell_type": "markdown",
   "metadata": {
    "colab_type": "text",
    "id": "pM3z-KRWHYu7"
   },
   "source": [
    "## Part II: Set up and showcase of text pre-processing"
   ]
  },
  {
   "cell_type": "markdown",
   "metadata": {
    "colab_type": "text",
    "id": "ydHIRLrVHYu_"
   },
   "source": [
    "In this part of the notebook, we will create some appropriate functions to pre-process and clear text data acquired from the Twitter API. First, we will define a set of emoticons and emojis&mdash;very common in tweets&mdash;in order to be able to remove them from our tweets' body. This will help reduce the amount of text information that is not useful as a feature.\n",
    "\n",
    "Solution to remove emoji patterns based on the question presented in: https://stackoverflow.com/questions/26568722/remove-unicode-emoji-using-re-in-python\n",
    "\n",
    "Solution to remove happy and sad emoticons based on: https://towardsdatascience.com/extracting-twitter-data-pre-processing-and-sentiment-analysis-using-python-3-0-7192bd8b47cf"
   ]
  },
  {
   "cell_type": "code",
   "execution_count": 4,
   "metadata": {
    "colab": {},
    "colab_type": "code",
    "id": "pT5Nh5nEHYvC"
   },
   "outputs": [],
   "source": [
    "# Define set of happy emoticons\n",
    "emoticons_happy = set([\n",
    "    ':-)', ':)', ';)', ':o)', ':]', ':3', ':c)', ':>', '=]', '8)', '=)', ':}',\n",
    "    ':^)', ':-D', ':D', '8-D', '8D', 'x-D', 'xD', 'X-D', 'XD', '=-D', '=D',\n",
    "    '=-3', '=3', ':-))', \":'-)\", \":')\", ':*', ':^*', '>:P', ':-P', ':P', 'X-P',\n",
    "    'x-p', 'xp', 'XP', ':-p', ':p', '=p', ':-b', ':b', '>:)', '>;)', '>:-)',\n",
    "    '<3'\n",
    "    ])\n",
    " \n",
    "# Sad Emoticons\n",
    "emoticons_sad = set([\n",
    "    ':L', ':-/', '>:/', ':S', '>:[', ':@', ':-(', ':[', ':-||', '=L', ':<',\n",
    "    ':-[', ':-<', '=\\\\', '=/', '>:(', ':(', '>.<', \":'-(\", \":'(\", ':\\\\', ':-c',\n",
    "    ':c', ':{', '>:\\\\', ';('\n",
    "    ])\n",
    " \n",
    "#Function to remove emojis\n",
    "def remove_emoji(text):\n",
    "    return emoji.get_emoji_regexp().sub(u'', text)\n",
    " \n",
    "#combine sad and happy emoticons\n",
    "emoticons = emoticons_happy.union(emoticons_sad)"
   ]
  },
  {
   "cell_type": "markdown",
   "metadata": {
    "colab_type": "text",
    "id": "WT2-qQcZHYvY"
   },
   "source": [
    "Now, we will perform basic pre-processing on a sample tweet. Then, we will define a function called _tweet_nlp_ to perform these actions automatically on a text tweet."
   ]
  },
  {
   "cell_type": "code",
   "execution_count": 5,
   "metadata": {
    "colab": {},
    "colab_type": "code",
    "id": "_88SePzKHYva",
    "outputId": "f5891147-4dfa-4714-dee6-2095307ed6c6"
   },
   "outputs": [
    {
     "name": "stdout",
     "output_type": "stream",
     "text": [
      "Commuter CHAOS on the #TTC 🚌 ... #embarrassing compared to other cities :(\n"
     ]
    }
   ],
   "source": [
    "sample_tweet = 'Commuter CHAOS on the #TTC 🚌 ... #embarrassing compared to other cities :('\n",
    "print(sample_tweet)"
   ]
  },
  {
   "cell_type": "code",
   "execution_count": 6,
   "metadata": {
    "colab": {},
    "colab_type": "code",
    "id": "u91peMwWHYvg",
    "outputId": "fb71e9e7-b674-4c97-e2ce-cd7fb8f1bc5e"
   },
   "outputs": [
    {
     "name": "stdout",
     "output_type": "stream",
     "text": [
      "Commuter CHAOS on the #TTC 🚌 ... #embarrassing compared to other cities :(\n"
     ]
    }
   ],
   "source": [
    "#before tokenizing, remove common content in tweets such as the RT sign, and links for retweets using regular expressions:\n",
    "sample_tweet = re.sub(r'https?://\\S+', '', sample_tweet)\n",
    "sample_tweet = re.compile('RT @').sub('@', sample_tweet, count=1)\n",
    "print(sample_tweet)"
   ]
  },
  {
   "cell_type": "code",
   "execution_count": 7,
   "metadata": {
    "colab": {},
    "colab_type": "code",
    "id": "67zsg5p_HYvk",
    "outputId": "da9e8ecc-bd48-45f0-a68b-9d4611992a1c"
   },
   "outputs": [
    {
     "name": "stdout",
     "output_type": "stream",
     "text": [
      "['Commuter', 'CHAOS', 'on', 'the', '#', 'TTC', '🚌', '...', '#', 'embarrassing', 'compared', 'to', 'other', 'cities', ':', '(']\n"
     ]
    }
   ],
   "source": [
    "#start by tokenize the tweet (separate it the text into words, or n-grams) with nltk\n",
    "word_tokens = word_tokenize(sample_tweet) \n",
    "print(word_tokens)"
   ]
  },
  {
   "cell_type": "code",
   "execution_count": 8,
   "metadata": {
    "colab": {},
    "colab_type": "code",
    "id": "6bTQKW3hHYvs",
    "outputId": "940decc1-7b8f-45fc-f753-ace59b699eb4"
   },
   "outputs": [
    {
     "name": "stdout",
     "output_type": "stream",
     "text": [
      "['commuter', 'chaos', 'on', 'the', '#', 'ttc', '🚌', '...', '#', 'embarrassing', 'compared', 'to', 'other', 'cities', ':', '(']\n"
     ]
    }
   ],
   "source": [
    "#convert text into lowercase\n",
    "word_tokens = [word.lower() for word in word_tokens]\n",
    "print(word_tokens)"
   ]
  },
  {
   "cell_type": "code",
   "execution_count": 9,
   "metadata": {
    "colab": {},
    "colab_type": "code",
    "id": "_RiMcsKDHYvw",
    "outputId": "6b3f3a82-586a-43b7-fcc4-6bb59a98aed6"
   },
   "outputs": [
    {
     "name": "stdout",
     "output_type": "stream",
     "text": [
      "['commuter', 'chaos', 'on', 'the', '#', 'ttc', '', '...', '#', 'embarrassing', 'compared', 'to', 'other', 'cities', ':', '(']\n"
     ]
    }
   ],
   "source": [
    "#remove emoticons and emojis\n",
    "word_tokens = [word for word in word_tokens if not word in emoticons]\n",
    "word_tokens = [remove_emoji(word) for word in word_tokens]\n",
    "print(word_tokens)"
   ]
  },
  {
   "cell_type": "code",
   "execution_count": 10,
   "metadata": {
    "colab": {},
    "colab_type": "code",
    "id": "dwX8lxfvHYv2",
    "outputId": "0d434603-d8b7-4409-fe26-884c72d8a610"
   },
   "outputs": [
    {
     "name": "stdout",
     "output_type": "stream",
     "text": [
      "['commuter', 'chaos', 'on', 'the', '', 'ttc', '', '', '', 'embarrassing', 'compared', 'to', 'other', 'cities', '', '']\n"
     ]
    }
   ],
   "source": [
    "#remove punctuation signs from tokens\n",
    "table = str.maketrans('', '', string.punctuation)\n",
    "word_tokens = [word.translate(table) for word in word_tokens]\n",
    "print(word_tokens)"
   ]
  },
  {
   "cell_type": "code",
   "execution_count": 11,
   "metadata": {
    "colab": {},
    "colab_type": "code",
    "id": "nH1eBtHEHYv7",
    "outputId": "94ecc848-46bd-4d18-cf5f-ba957c67824b"
   },
   "outputs": [
    {
     "name": "stdout",
     "output_type": "stream",
     "text": [
      "['commuter', 'chaos', 'on', 'the', 'ttc', 'embarrassing', 'compared', 'to', 'other', 'cities']\n"
     ]
    }
   ],
   "source": [
    "#remove non-alphabetic characters\n",
    "word_tokens = [word for word in word_tokens if word.isalpha()]\n",
    "print(word_tokens)"
   ]
  },
  {
   "cell_type": "code",
   "execution_count": 12,
   "metadata": {
    "colab": {},
    "colab_type": "code",
    "id": "Y6uNRccSHYwB",
    "outputId": "2448cc52-5a35-40dc-fe07-0eb5761103fd"
   },
   "outputs": [
    {
     "name": "stdout",
     "output_type": "stream",
     "text": [
      "['commuter', 'chaos', 'ttc', 'embarrassing', 'compared', 'cities']\n"
     ]
    }
   ],
   "source": [
    "#remove stopwords\n",
    "stop_words = set(stopwords.words('english')) #import a predefined set of stopwords from the nltk package\n",
    "word_tokens = [word for word in word_tokens if not word in stop_words]\n",
    "print(word_tokens)"
   ]
  },
  {
   "cell_type": "code",
   "execution_count": 13,
   "metadata": {
    "colab": {},
    "colab_type": "code",
    "id": "rz4TpkX-HYwF",
    "outputId": "f1a41c75-78e6-4cca-c826-df763df59b81"
   },
   "outputs": [
    {
     "name": "stdout",
     "output_type": "stream",
     "text": [
      "['commut', 'chao', 'ttc', 'embarrass', 'compar', 'citi']\n"
     ]
    }
   ],
   "source": [
    "# stemming of words (remove stems)\n",
    "from nltk.stem.porter import PorterStemmer\n",
    "stemmer = PorterStemmer()\n",
    "word_tokens = [stemmer.stem(word) for word in word_tokens]\n",
    "print(word_tokens)"
   ]
  },
  {
   "cell_type": "code",
   "execution_count": 14,
   "metadata": {
    "colab": {},
    "colab_type": "code",
    "id": "dGo0AfiCHYwQ",
    "outputId": "28243625-6810-4544-9f60-356088491d24"
   },
   "outputs": [
    {
     "name": "stdout",
     "output_type": "stream",
     "text": [
      "['commut', 'chao', 'ttc', 'embarrass', 'compar', 'citi']\n"
     ]
    }
   ],
   "source": [
    "#lemmatization of words (express in base form)\n",
    "lemmatizer = nltk.WordNetLemmatizer()\n",
    "word_tokens = [lemmatizer.lemmatize(word) for word in word_tokens]\n",
    "print(word_tokens)"
   ]
  },
  {
   "cell_type": "code",
   "execution_count": 15,
   "metadata": {
    "colab": {},
    "colab_type": "code",
    "id": "71SYlcaOHYwW",
    "outputId": "01886131-2daf-447a-d9ab-f5c237a3136e"
   },
   "outputs": [
    {
     "name": "stdout",
     "output_type": "stream",
     "text": [
      "commut chao ttc embarrass compar citi\n"
     ]
    }
   ],
   "source": [
    "#join the tokens of the clean tweet back into a string with spaces in between\n",
    "clean_tweet_str = ' '.join(word_tokens)\n",
    "print(clean_tweet_str)"
   ]
  },
  {
   "cell_type": "markdown",
   "metadata": {
    "colab_type": "text",
    "id": "_ztcaAK2HYwa"
   },
   "source": [
    "Now, we integrate all of these functionalities into a function:"
   ]
  },
  {
   "cell_type": "code",
   "execution_count": 16,
   "metadata": {
    "colab": {},
    "colab_type": "code",
    "id": "a2aVLtcMHYwb"
   },
   "outputs": [],
   "source": [
    "def tweet_nlp(tweet):\n",
    "    #before tokenizing, remove common content in tweets such as the RT sign, and links for retweets using regular expressions:\n",
    "    tweet = re.sub(r'https?://\\S+', '', tweet)\n",
    "    tweet = re.compile('RT @').sub('@', tweet, count=1)\n",
    "    \n",
    "    #start by tokenize the tweet (separate it the text into words, or n-grams) with nltk\n",
    "    word_tokens = word_tokenize(tweet) \n",
    " \n",
    "    #convert text into lowercase\n",
    "    word_tokens = [word.lower() for word in word_tokens]\n",
    " \n",
    "    #remove emoticons and emojis\n",
    "    word_tokens = [word for word in word_tokens if not word in emoticons]\n",
    "    word_tokens = [remove_emoji(word) for word in word_tokens]\n",
    "    \n",
    "    #remove punctuation signs from tokens\n",
    "    table = str.maketrans('', '', string.punctuation)\n",
    "    word_tokens = [word.translate(table) for word in word_tokens]\n",
    "    \n",
    "    #remove non-alphabetic characters\n",
    "    word_tokens = [word for word in word_tokens if word.isalpha()]\n",
    "    \n",
    "    #remove stopwords\n",
    "    stop_words = set(stopwords.words('english')) #import a predefined set of stopwords from the nltk package\n",
    "    word_tokens = [word for word in word_tokens if not word in stop_words]\n",
    "    \n",
    "    # stemming of words (remove stems)\n",
    "    from nltk.stem.porter import PorterStemmer\n",
    "    stemmer = PorterStemmer()\n",
    "    word_tokens = [stemmer.stem(word) for word in word_tokens]\n",
    "    \n",
    "    #lemmatization of words (express in base form)\n",
    "    lemmatizer = nltk.WordNetLemmatizer()\n",
    "    word_tokens = [lemmatizer.lemmatize(word) for word in word_tokens]\n",
    "    \n",
    "    clean_tweet = [] #create empty list to store the final tokens after text processing\n",
    "    for w in word_tokens:\n",
    "        clean_tweet.append(w)\n",
    "\n",
    "    #join the tokens of the clean tweet back into a string with spaces in between\n",
    "    clean_tweet_str = ' '.join(clean_tweet)\n",
    "    \n",
    "    #return the clean tweet string\n",
    "    return clean_tweet_str"
   ]
  },
  {
   "cell_type": "markdown",
   "metadata": {
    "colab_type": "text",
    "id": "BubkLLvdHYwf"
   },
   "source": [
    "## Part III: Acquiring Twitter data from the Twitter API"
   ]
  },
  {
   "cell_type": "markdown",
   "metadata": {
    "colab_type": "text",
    "id": "zdxUpmD_HYwh"
   },
   "source": [
    "Now, we will start the process of acquiring Twitter data. First, we need to create a file that will store our processed tweet data&mdash;in this case, we will use comma-separated values (CSV) as a filetype. Further, we need to define the fields that will be stored in this text file:"
   ]
  },
  {
   "cell_type": "code",
   "execution_count": 17,
   "metadata": {
    "colab": {},
    "colab_type": "code",
    "id": "LoxTO3tAHYwi"
   },
   "outputs": [],
   "source": [
    "#Create paths to csv file in which the tweet data will be stored\n",
    "tweet_datafile = \"tweet_data.csv\""
   ]
  },
  {
   "cell_type": "code",
   "execution_count": 18,
   "metadata": {
    "colab": {},
    "colab_type": "code",
    "id": "rqzX_zDyHYwq"
   },
   "outputs": [],
   "source": [
    "#Define column names of the csv file\n",
    "info_columns = ['id', 'created_at', 'source', 'original_text','clean_text', 'lang',\n",
    "        'like_count', 'retweet_count', 'original_author', 'hashtags',\n",
    "        'user_mentions', 'original_num_words', 'clean_num_words',\n",
    "        'original_num_chars', 'clean_num_chars',\n",
    "        'original_avg_word_length', 'clean_avg_word_length', 'num_stopwords']"
   ]
  },
  {
   "cell_type": "markdown",
   "metadata": {
    "colab_type": "text",
    "id": "Je1ISrNIHYwu"
   },
   "source": [
    "Finally, we will specify the date range used for our Twitter data scraping. This will set the temporal boundaries of our search:"
   ]
  },
  {
   "cell_type": "code",
   "execution_count": 19,
   "metadata": {
    "colab": {},
    "colab_type": "code",
    "id": "J7r6qr3PHYwv"
   },
   "outputs": [],
   "source": [
    "#Set a date range using the start_date and the end_date variables\n",
    "start_date = '2019-12-01'\n",
    "end_date = '2020-01-31'"
   ]
  },
  {
   "cell_type": "markdown",
   "metadata": {
    "colab_type": "text",
    "id": "S1oL_1dDHYxL"
   },
   "source": [
    "Now, we will write a function (this gives us flexibility in the application of different queries and needs) that goes into the Twitter API using _tweepy_ and stores the relevant results from a keyword-based search into our csv file. As will be shown in the code, the _tweepy_ Cursor tool allows to extract metadata from the tweets, such as number of retweets and likes, as well as basic features such as number of words, length of words, etc.\n",
    "\n",
    "Code for this function is partially based on the following example: https://towardsdatascience.com/extracting-twitter-data-pre-processing-and-sentiment-analysis-using-python-3-0-7192bd8b47cf"
   ]
  },
  {
   "cell_type": "code",
   "execution_count": 29,
   "metadata": {
    "colab": {},
    "colab_type": "code",
    "id": "vKRhemu0HYxM"
   },
   "outputs": [],
   "source": [
    "def tweet_saver(keyword, file, npages = 20, resperpage = 50):\n",
    "    #The arguments are: keyword (query), file (filename), and number of result pages to search within the Twitter API\n",
    "    \n",
    "    # first, we create an empty pandas dataframe (df) based on the columns defined previously.\n",
    "    # each row of the dataframe will be a retrieved tweet.\n",
    "    df = pd.DataFrame(columns=info_columns)\n",
    "    \n",
    "    # looping over results pages according to the tweepy documentation\n",
    "    for page in tweepy.Cursor(api.search, q=keyword, since=start_date, count = resperpage, tweet_mode=\"extended\").pages(npages):\n",
    "        for status in page: \n",
    "            status = status._json #the status variable represents each tweet retrieved from the search.\n",
    "                                  #tweepy returns a JSON type variable, which we are converting to python list\n",
    "             \n",
    "            ## Basic feature extraction and data processing\n",
    "            \n",
    "            #get tweet text\n",
    "            try:\n",
    "                original_text = status['retweeted_status']['full_text']\n",
    "            except:\n",
    "                original_text = status['full_text']\n",
    "                \n",
    "            # call our previously defined function to clean the tweet text, status['text']:\n",
    "            filtered_tweet=tweet_nlp(original_text)\n",
    "\n",
    "            # create a list that contains all the information we need for the tweet row\n",
    "            new_row = [status['id'], status['created_at'],\n",
    "                          status['source'], original_text,filtered_tweet, status['lang'],\n",
    "                          status['favorite_count'], status['retweet_count']]\n",
    " \n",
    "            # append original author of the tweet to the row entry\n",
    "            new_row.append(status['user']['screen_name'])\n",
    "\n",
    "            # tweepy allows us to save different entities from a tweet such as hashtags and mentions\n",
    "            # here, we use a list comprehension to loop over the hastag and user mention entities and save them\n",
    "            hashtags = \", \".join([hashtag_item['text'] for hashtag_item in status['entities']['hashtags']])\n",
    "            new_row.append(hashtags)\n",
    "            \n",
    "            mentions = \", \".join([mention['screen_name'] for mention in status['entities']['user_mentions']])\n",
    "            new_row.append(mentions)\n",
    "            \n",
    "            #Now, we perform basic feature extraction for the tweet\n",
    "            \n",
    "            original_words = original_text.split()\n",
    "            clean_words = filtered_tweet.split()\n",
    "            \n",
    "            #number of words\n",
    "            original_num_words = len(original_words)\n",
    "            new_row.append(original_num_words)\n",
    "            clean_num_words = len(clean_words)\n",
    "            new_row.append(clean_num_words)\n",
    "            \n",
    "            #number of characters\n",
    "            original_num_chars = len(original_text)\n",
    "            new_row.append(original_num_chars)\n",
    "            clean_num_chars = len(filtered_tweet)\n",
    "            new_row.append(clean_num_chars)\n",
    "            \n",
    "            #Average word length\n",
    "            if len(original_words) > 0 and len(clean_words) > 0:\n",
    "                original_avg_word_length = sum(map(len, original_words))/float(len(original_words))\n",
    "                new_row.append(original_avg_word_length)\n",
    "                clean_avg_word_length = sum(map(len, clean_words))/float(len(clean_words))\n",
    "                new_row.append(clean_avg_word_length)\n",
    "            elif len(original_words) > 0 and len(clean_words) == 0:\n",
    "                original_avg_word_length = sum(map(len, original_words))/float(len(original_words))\n",
    "                new_row.append(original_avg_word_length)\n",
    "                clean_avg_word_length = 0\n",
    "                new_row.append(clean_avg_word_length)\n",
    "            else:\n",
    "                original_avg_word_length = 0\n",
    "                new_row.append(original_avg_word_length)\n",
    "                clean_avg_word_length = 0\n",
    "                new_row.append(clean_avg_word_length)\n",
    "            \n",
    "            #number of stopwords\n",
    "            stop_words = set(stopwords.words('english')) #import a predefined set of stopwords from the nltk package\n",
    "            tweet_stop_words = [word.lower() for word in original_words if word.lower() in stop_words]\n",
    "            new_row.append(len(tweet_stop_words))\n",
    "            \n",
    "            ## Optional data - not included in this example\n",
    "            \n",
    "            # You can only keep tweets that are in English. This line may be modified or removed accordingly.\n",
    "            if status['lang'] != 'en':\n",
    "                continue\n",
    "            \n",
    "            # tweepy provides a classification for tweets with possibly sensitive content. \n",
    "            # uncomment this try-except block if interested in obtaining the sensitive content classification.\n",
    "        \n",
    "            #try:\n",
    "            #    is_sensitive = status['possibly_sensitive']\n",
    "            #except KeyError:\n",
    "            #    is_sensitive = None\n",
    "            #new_row.append(is_sensitive)\n",
    " \n",
    "            # tweepy allows to get location of the tweet if possible. uncomment if needed.\n",
    "            # The following block appends the following: location name, and coordinates (if found)\n",
    "            #try:\n",
    "            #    location = status['user']['location']\n",
    "            #except TypeError:\n",
    "            #    location = ''\n",
    "            #new_row.append(location)\n",
    " \n",
    "            #try:\n",
    "            #    coordinates = [coord for loc in status['place']['bounding_box']['coordinates'] for coord in loc]\n",
    "            #except TypeError:\n",
    "            #    coordinates = None\n",
    "            #new_row.append(coordinates)\n",
    "            \n",
    "            \n",
    "            ## Data storing into dataframe and csv file\n",
    "            \n",
    "            #store the row as a single-row dataframe\n",
    "            single_tweet_df = pd.DataFrame([new_row], columns=info_columns)\n",
    "            \n",
    "            #append the single row dataframe into the main dataframe\n",
    "            df = df.append(single_tweet_df, ignore_index=True)\n",
    "            \n",
    "            #open the csv file with filename given as parameter and store the dataframe in the file\n",
    "            csv_file = open(file, 'a' ,encoding='utf-8')\n",
    "    \n",
    "    #save the final dataframe into the csv file\n",
    "    df.to_csv(csv_file, mode='a', columns=info_columns, index=False, encoding=\"utf-8\")\n",
    "    \n",
    "    #return the dataframe as function output\n",
    "    return df"
   ]
  },
  {
   "cell_type": "code",
   "execution_count": 30,
   "metadata": {
    "colab": {},
    "colab_type": "code",
    "id": "LNOqQqp6HYxT"
   },
   "outputs": [],
   "source": [
    "#declare keywords as a query for three categories\n",
    "query = 'brexit'"
   ]
  },
  {
   "cell_type": "code",
   "execution_count": 38,
   "metadata": {
    "colab": {},
    "colab_type": "code",
    "id": "Z4NCnd28HYxX"
   },
   "outputs": [],
   "source": [
    "#call tweet_saver function to search and download data into a file\n",
    "tweet_df = tweet_saver(query, tweet_datafile,npages = 100, resperpage= 50)"
   ]
  },
  {
   "cell_type": "markdown",
   "metadata": {
    "colab_type": "text",
    "id": "lUMqAdj0HYxb"
   },
   "source": [
    "## Part IV: Extraction of basic features from the acquired data"
   ]
  },
  {
   "cell_type": "markdown",
   "metadata": {
    "colab_type": "text",
    "id": "zLXo3UDiHYxe"
   },
   "source": [
    "Now, we will take the dataframe of downloaded and pre-processed tweets to extract basic features such as number of words, number of characters, etc."
   ]
  },
  {
   "cell_type": "code",
   "execution_count": 39,
   "metadata": {
    "colab": {},
    "colab_type": "code",
    "id": "jjqOqDCSHYxf",
    "outputId": "902f40b4-80f2-4134-ebd1-ec1c12228c2b",
    "scrolled": false
   },
   "outputs": [
    {
     "data": {
      "text/html": [
       "<div>\n",
       "<style scoped>\n",
       "    .dataframe tbody tr th:only-of-type {\n",
       "        vertical-align: middle;\n",
       "    }\n",
       "\n",
       "    .dataframe tbody tr th {\n",
       "        vertical-align: top;\n",
       "    }\n",
       "\n",
       "    .dataframe thead th {\n",
       "        text-align: right;\n",
       "    }\n",
       "</style>\n",
       "<table border=\"1\" class=\"dataframe\">\n",
       "  <thead>\n",
       "    <tr style=\"text-align: right;\">\n",
       "      <th></th>\n",
       "      <th>id</th>\n",
       "      <th>created_at</th>\n",
       "      <th>source</th>\n",
       "      <th>original_text</th>\n",
       "      <th>clean_text</th>\n",
       "      <th>lang</th>\n",
       "      <th>like_count</th>\n",
       "      <th>retweet_count</th>\n",
       "      <th>original_author</th>\n",
       "      <th>hashtags</th>\n",
       "      <th>user_mentions</th>\n",
       "      <th>original_num_words</th>\n",
       "      <th>clean_num_words</th>\n",
       "      <th>original_num_chars</th>\n",
       "      <th>clean_num_chars</th>\n",
       "      <th>original_avg_word_length</th>\n",
       "      <th>clean_avg_word_length</th>\n",
       "      <th>num_stopwords</th>\n",
       "    </tr>\n",
       "  </thead>\n",
       "  <tbody>\n",
       "    <tr>\n",
       "      <th>0</th>\n",
       "      <td>1229845758033133571</td>\n",
       "      <td>Tue Feb 18 19:10:52 +0000 2020</td>\n",
       "      <td>&lt;a href=\"http://twitter.com/download/android\" ...</td>\n",
       "      <td>“The main problem with the BBC is that it no l...</td>\n",
       "      <td>main problem bbc longer speak nation speak wok...</td>\n",
       "      <td>en</td>\n",
       "      <td>0</td>\n",
       "      <td>610</td>\n",
       "      <td>jameson_daniels</td>\n",
       "      <td></td>\n",
       "      <td>spikedonline</td>\n",
       "      <td>49</td>\n",
       "      <td>25</td>\n",
       "      <td>297</td>\n",
       "      <td>152</td>\n",
       "      <td>5.061224</td>\n",
       "      <td>5.120000</td>\n",
       "      <td>21</td>\n",
       "    </tr>\n",
       "    <tr>\n",
       "      <th>1</th>\n",
       "      <td>1229845755957055488</td>\n",
       "      <td>Tue Feb 18 19:10:52 +0000 2020</td>\n",
       "      <td>&lt;a href=\"http://twitter.com/download/iphone\" r...</td>\n",
       "      <td>There are many standout points in @DavidGHFros...</td>\n",
       "      <td>mani standout point davidghfrost brexit speech...</td>\n",
       "      <td>en</td>\n",
       "      <td>0</td>\n",
       "      <td>15</td>\n",
       "      <td>fiegehen</td>\n",
       "      <td></td>\n",
       "      <td>BobbyMcDonagh1, DavidGHFrost</td>\n",
       "      <td>42</td>\n",
       "      <td>27</td>\n",
       "      <td>278</td>\n",
       "      <td>184</td>\n",
       "      <td>5.642857</td>\n",
       "      <td>5.851852</td>\n",
       "      <td>15</td>\n",
       "    </tr>\n",
       "    <tr>\n",
       "      <th>2</th>\n",
       "      <td>1229845753234894848</td>\n",
       "      <td>Tue Feb 18 19:10:51 +0000 2020</td>\n",
       "      <td>&lt;a href=\"https://about.twitter.com/products/tw...</td>\n",
       "      <td>#Brexit means UK must leave European Space Age...</td>\n",
       "      <td>brexit mean uk must leav european space agenc ...</td>\n",
       "      <td>en</td>\n",
       "      <td>0</td>\n",
       "      <td>8</td>\n",
       "      <td>YorkshireTaff</td>\n",
       "      <td>Brexit</td>\n",
       "      <td>uk_rants, BBCr4today</td>\n",
       "      <td>45</td>\n",
       "      <td>28</td>\n",
       "      <td>274</td>\n",
       "      <td>158</td>\n",
       "      <td>5.111111</td>\n",
       "      <td>4.678571</td>\n",
       "      <td>14</td>\n",
       "    </tr>\n",
       "    <tr>\n",
       "      <th>3</th>\n",
       "      <td>1229845751410413572</td>\n",
       "      <td>Tue Feb 18 19:10:51 +0000 2020</td>\n",
       "      <td>&lt;a href=\"http://twitter.com/download/iphone\" r...</td>\n",
       "      <td>#Brexit means UK must leave European Space Age...</td>\n",
       "      <td>brexit mean uk must leav european space agenc ...</td>\n",
       "      <td>en</td>\n",
       "      <td>0</td>\n",
       "      <td>8</td>\n",
       "      <td>AnnetteVitelli3</td>\n",
       "      <td>Brexit</td>\n",
       "      <td>uk_rants, BBCr4today</td>\n",
       "      <td>45</td>\n",
       "      <td>28</td>\n",
       "      <td>274</td>\n",
       "      <td>158</td>\n",
       "      <td>5.111111</td>\n",
       "      <td>4.678571</td>\n",
       "      <td>14</td>\n",
       "    </tr>\n",
       "    <tr>\n",
       "      <th>4</th>\n",
       "      <td>1229845731776892928</td>\n",
       "      <td>Tue Feb 18 19:10:46 +0000 2020</td>\n",
       "      <td>&lt;a href=\"http://twitter.com/#!/download/ipad\" ...</td>\n",
       "      <td>@Andrew_Adonis Destroying Corbynism was key to...</td>\n",
       "      <td>andrewadoni destroy corbyn key deliv torus bre...</td>\n",
       "      <td>en</td>\n",
       "      <td>0</td>\n",
       "      <td>1</td>\n",
       "      <td>yagbebi</td>\n",
       "      <td></td>\n",
       "      <td>MaryKapadia, Andrew_Adonis</td>\n",
       "      <td>47</td>\n",
       "      <td>34</td>\n",
       "      <td>277</td>\n",
       "      <td>195</td>\n",
       "      <td>4.914894</td>\n",
       "      <td>4.764706</td>\n",
       "      <td>13</td>\n",
       "    </tr>\n",
       "  </tbody>\n",
       "</table>\n",
       "</div>"
      ],
      "text/plain": [
       "                    id                      created_at  \\\n",
       "0  1229845758033133571  Tue Feb 18 19:10:52 +0000 2020   \n",
       "1  1229845755957055488  Tue Feb 18 19:10:52 +0000 2020   \n",
       "2  1229845753234894848  Tue Feb 18 19:10:51 +0000 2020   \n",
       "3  1229845751410413572  Tue Feb 18 19:10:51 +0000 2020   \n",
       "4  1229845731776892928  Tue Feb 18 19:10:46 +0000 2020   \n",
       "\n",
       "                                              source  \\\n",
       "0  <a href=\"http://twitter.com/download/android\" ...   \n",
       "1  <a href=\"http://twitter.com/download/iphone\" r...   \n",
       "2  <a href=\"https://about.twitter.com/products/tw...   \n",
       "3  <a href=\"http://twitter.com/download/iphone\" r...   \n",
       "4  <a href=\"http://twitter.com/#!/download/ipad\" ...   \n",
       "\n",
       "                                       original_text  \\\n",
       "0  “The main problem with the BBC is that it no l...   \n",
       "1  There are many standout points in @DavidGHFros...   \n",
       "2  #Brexit means UK must leave European Space Age...   \n",
       "3  #Brexit means UK must leave European Space Age...   \n",
       "4  @Andrew_Adonis Destroying Corbynism was key to...   \n",
       "\n",
       "                                          clean_text lang like_count  \\\n",
       "0  main problem bbc longer speak nation speak wok...   en          0   \n",
       "1  mani standout point davidghfrost brexit speech...   en          0   \n",
       "2  brexit mean uk must leav european space agenc ...   en          0   \n",
       "3  brexit mean uk must leav european space agenc ...   en          0   \n",
       "4  andrewadoni destroy corbyn key deliv torus bre...   en          0   \n",
       "\n",
       "  retweet_count  original_author hashtags                 user_mentions  \\\n",
       "0           610  jameson_daniels                           spikedonline   \n",
       "1            15         fiegehen           BobbyMcDonagh1, DavidGHFrost   \n",
       "2             8    YorkshireTaff   Brexit          uk_rants, BBCr4today   \n",
       "3             8  AnnetteVitelli3   Brexit          uk_rants, BBCr4today   \n",
       "4             1          yagbebi             MaryKapadia, Andrew_Adonis   \n",
       "\n",
       "  original_num_words clean_num_words original_num_chars clean_num_chars  \\\n",
       "0                 49              25                297             152   \n",
       "1                 42              27                278             184   \n",
       "2                 45              28                274             158   \n",
       "3                 45              28                274             158   \n",
       "4                 47              34                277             195   \n",
       "\n",
       "   original_avg_word_length  clean_avg_word_length num_stopwords  \n",
       "0                  5.061224               5.120000            21  \n",
       "1                  5.642857               5.851852            15  \n",
       "2                  5.111111               4.678571            14  \n",
       "3                  5.111111               4.678571            14  \n",
       "4                  4.914894               4.764706            13  "
      ]
     },
     "execution_count": 39,
     "metadata": {},
     "output_type": "execute_result"
    }
   ],
   "source": [
    "tweet_df.head()"
   ]
  },
  {
   "cell_type": "code",
   "execution_count": 41,
   "metadata": {
    "colab": {},
    "colab_type": "code",
    "id": "WYFmpzjXHYxk",
    "outputId": "d3dde9ab-394f-40fb-b341-dd0492473a5a"
   },
   "outputs": [
    {
     "data": {
      "text/html": [
       "<div>\n",
       "<style scoped>\n",
       "    .dataframe tbody tr th:only-of-type {\n",
       "        vertical-align: middle;\n",
       "    }\n",
       "\n",
       "    .dataframe tbody tr th {\n",
       "        vertical-align: top;\n",
       "    }\n",
       "\n",
       "    .dataframe thead th {\n",
       "        text-align: right;\n",
       "    }\n",
       "</style>\n",
       "<table border=\"1\" class=\"dataframe\">\n",
       "  <thead>\n",
       "    <tr style=\"text-align: right;\">\n",
       "      <th></th>\n",
       "      <th>original_avg_word_length</th>\n",
       "      <th>clean_avg_word_length</th>\n",
       "    </tr>\n",
       "  </thead>\n",
       "  <tbody>\n",
       "    <tr>\n",
       "      <th>count</th>\n",
       "      <td>4621.000000</td>\n",
       "      <td>4621.000000</td>\n",
       "    </tr>\n",
       "    <tr>\n",
       "      <th>mean</th>\n",
       "      <td>5.625065</td>\n",
       "      <td>5.369825</td>\n",
       "    </tr>\n",
       "    <tr>\n",
       "      <th>std</th>\n",
       "      <td>1.115227</td>\n",
       "      <td>0.713670</td>\n",
       "    </tr>\n",
       "    <tr>\n",
       "      <th>min</th>\n",
       "      <td>3.568182</td>\n",
       "      <td>3.000000</td>\n",
       "    </tr>\n",
       "    <tr>\n",
       "      <th>25%</th>\n",
       "      <td>5.000000</td>\n",
       "      <td>4.875000</td>\n",
       "    </tr>\n",
       "    <tr>\n",
       "      <th>50%</th>\n",
       "      <td>5.428571</td>\n",
       "      <td>5.291667</td>\n",
       "    </tr>\n",
       "    <tr>\n",
       "      <th>75%</th>\n",
       "      <td>6.000000</td>\n",
       "      <td>5.700000</td>\n",
       "    </tr>\n",
       "    <tr>\n",
       "      <th>max</th>\n",
       "      <td>15.666667</td>\n",
       "      <td>10.500000</td>\n",
       "    </tr>\n",
       "  </tbody>\n",
       "</table>\n",
       "</div>"
      ],
      "text/plain": [
       "       original_avg_word_length  clean_avg_word_length\n",
       "count               4621.000000            4621.000000\n",
       "mean                   5.625065               5.369825\n",
       "std                    1.115227               0.713670\n",
       "min                    3.568182               3.000000\n",
       "25%                    5.000000               4.875000\n",
       "50%                    5.428571               5.291667\n",
       "75%                    6.000000               5.700000\n",
       "max                   15.666667              10.500000"
      ]
     },
     "execution_count": 41,
     "metadata": {},
     "output_type": "execute_result"
    }
   ],
   "source": [
    "tweet_df.describe()"
   ]
  },
  {
   "cell_type": "code",
   "execution_count": 44,
   "metadata": {},
   "outputs": [
    {
     "data": {
      "image/png": "[encoded data removed]",
      "text/plain": [
       "<Figure size 432x288 with 1 Axes>"
      ]
     },
     "metadata": {
      "needs_background": "light"
     },
     "output_type": "display_data"
    }
   ],
   "source": [
    "import matplotlib.pyplot as plt\n",
    "import seaborn as sns\n",
    "import numpy as np\n",
    "\n",
    "bins = np.linspace(0.5, 60.5, 30)\n",
    "plt.hist(tweet_df.original_num_words, bins=bins, alpha=0.5, label='original tweets')\n",
    "plt.hist(tweet_df.clean_num_words, bins=bins, alpha=0.5, label='clean tweets')\n",
    "plt.xlabel('Number of words')\n",
    "plt.ylabel('Frequency')\n",
    "plt.legend()\n",
    "plt.savefig('words.png', dpi=300, format='png')"
   ]
  },
  {
   "cell_type": "code",
   "execution_count": 45,
   "metadata": {
    "scrolled": true
   },
   "outputs": [
    {
     "data": {
      "image/png": "[encoded data removed]",
      "text/plain": [
       "<Figure size 432x288 with 1 Axes>"
      ]
     },
     "metadata": {
      "needs_background": "light"
     },
     "output_type": "display_data"
    }
   ],
   "source": [
    "bins = np.linspace(0.5, 400.5, 50)\n",
    "plt.hist(tweet_df.original_num_chars, bins=bins, alpha=0.5, label='original tweets')\n",
    "plt.hist(tweet_df.clean_num_chars, bins=bins, alpha=0.5, label='clean tweets')\n",
    "plt.xlabel('Number of characters')\n",
    "plt.ylabel('Frequency')\n",
    "plt.legend()\n",
    "plt.savefig('chars.png', dpi=300, format='png')"
   ]
  }
 ],
 "metadata": {
  "colab": {
   "name": "MIE1624 Group 10 - Working with Twitter Data.ipynb",
   "provenance": []
  },
  "kernelspec": {
   "display_name": "Python 3",
   "language": "python",
   "name": "python3"
  },
  "language_info": {
   "codemirror_mode": {
    "name": "ipython",
    "version": 3
   },
   "file_extension": ".py",
   "mimetype": "text/x-python",
   "name": "python",
   "nbconvert_exporter": "python",
   "pygments_lexer": "ipython3",
   "version": "3.7.1"
  }
 },
 "nbformat": 4,
 "nbformat_minor": 1
}
